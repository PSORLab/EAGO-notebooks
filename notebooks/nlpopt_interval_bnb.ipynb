{
 "cells": [
  {
   "cell_type": "markdown",
   "metadata": {},
   "source": [
    "# Using EAGO's basic optimizer with user-defined subroutines \n",
    "\n",
    "[Matthew Wilhelm](https://psor.uconn.edu/person/matthew-wilhelm/)  \n",
    "Department of Chemical and Biomolecular Engineering, University of Connecticut\n",
    "\n",
    "[Robert Gottlieb](https://psor.uconn.edu/person/robert-gottlieb/)  \n",
    "Department of Chemical and Biomolecular Engineering, University of Connecticut"
   ]
  },
  {
   "cell_type": "markdown",
   "metadata": {},
   "source": [
    "### Overview  \n",
    "In this section, we construct an optimizer that uses EAGO's basic NLP solution routine with user-defined lower and upper bounding problems. The **EAGO.Optimizer** structure supplies a number of parameters and stored structures that advanced users may find useful for constructing specialized solution routines. For a full review of the EAGO.Optimizer object the reader is directed to the **EAGO.Optimizer** docstring and documentation provided at [https://psorlab.github.io/EAGO.jl/stable/](https://psorlab.github.io/EAGO.jl/stable/).\n",
    "\n",
    "In this example, we'll forgo extensive integration into the EAGO.Optimizer and simply replace the lower and upper-bounding problems to construct a B&B routine that solves the following problem to global optimality using bounds obtained from interval arithmetic:\n",
    "\n",
    "$\n",
    "\\begin{align}\n",
    "&\\min_{\\mathbf x \\in X} \\;\\; \\sin(x_1)x_2^2 - \\cos(x_3) / x_4\\\\\n",
    "&X = [-10,10]\\times[-1,1]\\times[-10,10]\\times[2,20].\n",
    "\\end{align}\n",
    "$\n",
    "\n",
    "We begin importing EAGO, IntervalArithmetic[1], and JuMP[2]."
   ]
  },
  {
   "cell_type": "code",
   "execution_count": 29,
   "metadata": {},
   "outputs": [],
   "source": [
    "using EAGO, IntervalArithmetic, JuMP"
   ]
  },
  {
   "cell_type": "markdown",
   "metadata": {},
   "source": [
    "We now define the IntervalExt struct as a subtype of the EAGO.ExtensionType."
   ]
  },
  {
   "cell_type": "code",
   "execution_count": 30,
   "metadata": {},
   "outputs": [],
   "source": [
    "struct IntervalExt <: EAGO.ExtensionType end"
   ]
  },
  {
   "cell_type": "markdown",
   "metadata": {},
   "source": [
    "### Defining a custom lower bounding problem\n",
    "A valid lower bound is obtained from the lower bound of the natural interval extension using the **IntervalArithmetic.jl** package. The LowerProblem is dispatched using the new **IntervalExt** structure and the **EAGO.GlobalOptimizer** structure, computes the bound using interval arithmetic, and stores the results to the appropriate field of the **EAGO.GlobalOptimizer**. Note that the problem is unconstrained on the domain so we can assume it is always feasible. Further, since the interval bound is constrained along the entire domain associated with a node, no additional cuts will be beneficial and thus we've disabled them using the `_cut_add_flag` field."
   ]
  },
  {
   "cell_type": "code",
   "execution_count": 31,
   "metadata": {},
   "outputs": [
    {
     "data": {
      "text/plain": [
       "lower_problem! (generic function with 3 methods)"
      ]
     },
     "metadata": {},
     "output_type": "display_data"
    }
   ],
   "source": [
    "import EAGO: lower_problem!\n",
    "function lower_problem!(t::IntervalExt, x::EAGO.GlobalOptimizer)\n",
    "    # Retrieve bounds at current node\n",
    "    n = x._current_node\n",
    "    lower = n.lower_variable_bounds\n",
    "    upper = n.upper_variable_bounds\n",
    "    \n",
    "    # Define X for the node and compute the interval extension\n",
    "    x_value = Interval.(lower, upper)\n",
    "    F = sin(x_value[1])*x_value[2]^2-cos(x_value[3])/x_value[4]\n",
    "    x._lower_objective_value = F.lo\n",
    "    x._lower_solution = IntervalArithmetic.mid.(x_value)\n",
    "    x._lower_feasibility = true\n",
    "    x._cut_add_flag = false\n",
    "    \n",
    "    return\n",
    "end"
   ]
  },
  {
   "cell_type": "markdown",
   "metadata": {},
   "source": [
    "### Defining a custom upper bounding problem\n",
    "Since the problem is unconstained, any feasible point represents a valid upper bound. Thus, if we arbitrarily evaluate the function at the midpoint, we obtain a valid upper bound. This function constructs an upper bound in this manner then stores the results to the appropriate field of the **EAGO.GlobalOptimizer**."
   ]
  },
  {
   "cell_type": "code",
   "execution_count": 32,
   "metadata": {},
   "outputs": [],
   "source": [
    "import EAGO.upper_problem!\n",
    "function EAGO.upper_problem!(t::IntervalExt, x::EAGO.GlobalOptimizer)\n",
    "    # Retrieve bounds at current node\n",
    "    n = x._current_node\n",
    "    lower = n.lower_variable_bounds\n",
    "    upper = n.upper_variable_bounds\n",
    "    \n",
    "    # Compute midpoint value and evaluate at that point\n",
    "    x_value = 0.5*(upper + lower)\n",
    "    f_val = sin(x_value[1])*x_value[2]^2-cos(x_value[3])/x_value[4]\n",
    "    x._upper_objective_value = f_val\n",
    "    x._upper_solution = x_value\n",
    "    x._upper_feasibility = true\n",
    "    \n",
    "    return\n",
    "end"
   ]
  },
  {
   "cell_type": "markdown",
   "metadata": {},
   "source": [
    "### Disable unnecessary routines.\n",
    "It is entirely possible to disable domain reduction by manipulating keyword arguments supplied to the optimizer. However, for simplicity's sake we'll simply overload the default preprocessing and postprocessing methods and indicate that there are no conditions under which EAGO should cut the node."
   ]
  },
  {
   "cell_type": "code",
   "execution_count": 33,
   "metadata": {},
   "outputs": [],
   "source": [
    "import EAGO: preprocess!, postprocess!, cut_condition\n",
    "function EAGO.preprocess!(t::IntervalExt, x::EAGO.GlobalOptimizer)\n",
    "    x._preprocess_feasibility = true\n",
    "    return\n",
    "end\n",
    "function EAGO.postprocess!(t::IntervalExt, x::EAGO.GlobalOptimizer)\n",
    "    x._postprocess_feasibility = true\n",
    "    return\n",
    "end\n",
    "EAGO.cut_condition(t::IntervalExt, x::EAGO.GlobalOptimizer) = false"
   ]
  },
  {
   "cell_type": "markdown",
   "metadata": {},
   "source": [
    "### Build the JuMP Model and optimize\n",
    "We now add our optimizer to a JuMP model, provide variable bounds, and optimize."
   ]
  },
  {
   "cell_type": "code",
   "execution_count": 34,
   "metadata": {},
   "outputs": [
    {
     "name": "stdout",
     "output_type": "stream",
     "text": [
      "---------------------------------------------------------------------------------------------------------------------------------\n",
      "|  Iteration #  |     Nodes     |  Lower Bound  |  Upper Bound  |      Gap      |     Ratio     |     Timer     |   Time Left   |\n",
      "---------------------------------------------------------------------------------------------------------------------------------\n",
      "|           200 |            63 |    -1.500E+00 |    -1.310E+00 |     1.902E-01 |     1.268E-01 |          0.00 |       3600.00 |\n",
      "|           400 |            87 |    -1.500E+00 |    -1.483E+00 |     1.681E-02 |     1.121E-02 |          0.00 |       3600.00 |\n",
      "|           600 |           137 |    -1.500E+00 |    -1.487E+00 |     1.269E-02 |     8.463E-03 |          0.01 |       3599.99 |\n",
      "|           734 |           139 |    -1.500E+00 |    -1.499E+00 |     1.039E-03 |     6.926E-04 |          0.01 |       3599.99 |\n",
      "---------------------------------------------------------------------------------------------------------------------------------\n",
      " \n",
      "Relative Tolerance Achieved\n",
      "Optimal Solution Found at Node 1107\n",
      "Lower Bound: -1.5\n",
      "Upper Bound: -1.4989611040367379\n",
      "Solution:\n",
      "   x[1] = -1.56982421875\n",
      "   x[2] = -0.999755859375\n",
      "   x[3] = -0.00244140625\n",
      "   x[4] = 2.002197265625\n",
      " \n"
     ]
    }
   ],
   "source": [
    "# Create a factory that specifies the interval extension in EAGO's SubSolver\n",
    "factory = () -> EAGO.Optimizer(SubSolvers(; t = IntervalExt()))\n",
    "\n",
    "# Create a JuMP model using the factory, and with the absolute tolerance set by keyword argument\n",
    "model = Model(optimizer_with_attributes(factory,\n",
    "                    \"absolute_tolerance\" => 0.001,\n",
    "                    \"output_iterations\" => 200,\n",
    "                    \"unbounded_check\" => false,\n",
    "        ))\n",
    "\n",
    "# Add variables, bounds, and the objective function\n",
    "xL = [-10.0, -1.0, -10.0, 2.0]\n",
    "xU = [10.0, 1.0, 10.0, 20.0]\n",
    "@variable(model, xL[i] <= x[i=1:4] <= xU[i])\n",
    "@objective(model, Min, sin(x[1])*x[2]^2 - cos(x[3])/x[4])\n",
    "\n",
    "# Perform the optimization\n",
    "JuMP.optimize!(model)"
   ]
  },
  {
   "cell_type": "markdown",
   "metadata": {},
   "source": [
    "### Get information from the JuMP Model object\n",
    "The objective value, solution, termination status,  and primal status can then be accessed via the standard JuMP interface."
   ]
  },
  {
   "cell_type": "code",
   "execution_count": 35,
   "metadata": {},
   "outputs": [
    {
     "name": "stdout",
     "output_type": "stream",
     "text": [
      "EAGO terminated with a status of OPTIMAL and a result code of FEASIBLE_POINT.\n",
      "The optimal value is: -1.499, the solution found is [-1.5698, -0.9998, -0.0024, 2.0022].\n"
     ]
    }
   ],
   "source": [
    "fval = JuMP.objective_value(model)\n",
    "xsol = JuMP.value.(x)\n",
    "tstatus = JuMP.termination_status(model)\n",
    "pstatus = JuMP.primal_status(model)\n",
    "\n",
    "println(\"EAGO terminated with a status of $tstatus and a result code of $pstatus.\")\n",
    "println(\"The optimal value is: $(round(fval,digits=3)), the solution found is $(round.(xsol,digits=4)).\")"
   ]
  },
  {
   "cell_type": "markdown",
   "metadata": {},
   "source": [
    "### Advice for more advanced constructions\n",
    "The default `lower_problem!` and `upper_problem!` should be used templates for error handling and retreiving information from MOI models. \n",
    "\n",
    "Essentially all of EAGO's subroutines stored to a field in the `EAGO.Optimizer` structure can be reset as user-defined functions.\n",
    "\n",
    "### References\n",
    "1. IntervalArithmetic.jl [Computer software] (2019). Retrieved from https://github.com/JuliaIntervals/IntervalArithmetic.jl\n",
    "2. Iain Dunning and Joey Huchette and Miles Lubin. JuMP: A Modeling Language for Mathematical Optimization, *SIAM Review*, **SIAM** 59 (2017), pp. 295-320."
   ]
  }
 ],
 "metadata": {
  "@webio": {
   "lastCommId": null,
   "lastKernelId": null
  },
  "kernelspec": {
   "display_name": "Julia 1.10.8",
   "language": "julia",
   "name": "julia-1.10"
  },
  "language_info": {
   "file_extension": ".jl",
   "mimetype": "application/julia",
   "name": "julia",
   "version": "1.10.8"
  }
 },
 "nbformat": 4,
 "nbformat_minor": 2
}
