{
 "cells": [
  {
   "cell_type": "markdown",
   "metadata": {},
   "source": [
    "# Customizing EAGO to Solve a Quasiconvex Problem \n",
    "\n",
    "[Matthew Wilhelm](https://psor.uconn.edu/person/matthew-wilhelm/)  \n",
    "Department of Chemical and Biomolecular Engineering, University of Connecticut\n",
    "\n",
    "[Robert Gottlieb](https://psor.uconn.edu/person/robert-gottlieb/)  \n",
    "Department of Chemical and Biomolecular Engineering, University of Connecticut"
   ]
  },
  {
   "cell_type": "markdown",
   "metadata": {},
   "source": [
    "In the following example, we illustrate how EAGO's basic branch-and-bound routine can be adapted for use in other algorithms.\n",
    "\n",
    "## An Algorithm for Solving Quasiconvex Problems\n",
    "\n",
    "We'll adapt EAGO to implement the bisection-based algorithm used to solve the quasiconvex optimization problem presented in [1]:\n",
    "\n",
    "$\n",
    "\\begin{align}\n",
    "   f^*= \\qquad&\\min_{\\mathbf y\\in Y} f(\\mathbf y) \\\\ \n",
    "   {\\rm s.t.}\\;\\;&\\sum_{i=1}^5 i \\cdot y_i - 5 = 0 \\\\\n",
    "   &\\sum_{i=1}^5 y_i^2 - 0.5\\pi \\leq 0   \\\\\n",
    "   &-\\left(\\frac{1}{2}y_1^2 + \\frac{1}{2}y_2^2 + y_3^2 + 2y_1y_2 + 4y_1y_3 + 2y_2y_3\\right)\\leq 0   \\\\ \n",
    "   &-y_1^2 - 6y_1y_2 - 2y_2^2 + \\text{cos}(y_1) + \\pi \\leq 0 \\\\\n",
    "    &Y = [0, 5]^5\n",
    "\\end{align}\n",
    "$\n",
    "\n",
    "where\n",
    "\n",
    "$\n",
    "\\begin{align}\n",
    "    f(\\mathbf y) = -\\frac{\\text{ln}((5+y_1)^2 + \\sum_{i=1}^5 y_i)}{1 + \\sum_{i=1}^{5}y_{i}^{2}}.\n",
    "\\end{align}\n",
    "$\n",
    "\n",
    "Interval analysis shows that the objective value is bounded by the interval F such that $f^* \\in F=[f^L, f^U] = [-5, 0]$. Introducing an auxiliary variable $t\\in T=F$ allows the problem to be formulated as:\n",
    "\n",
    "$\n",
    "\\begin{align}\n",
    "    t^*=&\\min_{\\mathbf y\\in Y,t\\in T}t\\\\\n",
    "    {\\rm s.t.} \\quad & (24)-(27)\\\\\n",
    "    &f(\\mathbf y)-t\\le 0\\\\\n",
    "    &Y=[0,5]^2,\\;\\;T=[-5,0].\n",
    "\\end{align}\n",
    "$\n",
    "\n",
    "Let $\\phi_\\tau(\\mathbf y) = f(\\mathbf y) - \\tau$ such that $\\tau = (t^L + t^U)/2$. We solve for $\\mathbf y$ subject to constraints (24)-(27) where $\\phi_\\tau(\\mathbf y) \\leq 0$. If this is feasible, $t^* \\in [t^L, \\tau]$, else $t^* \\in [\\tau, t^U]$. The interval containing $t^*$ is kept and the other is fathomed. This manner of bisection is repeated until an interval containing a feasible solution with a width of at most $\\epsilon$ is located [2]."
   ]
  },
  {
   "cell_type": "markdown",
   "metadata": {},
   "source": [
    "## Customizing EAGO's script\n",
    "First, the preprocessing step, upper problem, and postprocessing routines are short-circuited as only a single optimization problem needs to be solved at each iteration."
   ]
  },
  {
   "cell_type": "code",
   "execution_count": 7,
   "metadata": {},
   "outputs": [],
   "source": [
    "using EAGO, JuMP\n",
    "import EAGO: Optimizer, GlobalOptimizer\n",
    "\n",
    "struct QuasiConvex <: EAGO.ExtensionType end\n",
    "import EAGO: preprocess!, upper_problem!, postprocess!\n",
    "function EAGO.preprocess!(t::QuasiConvex, x::GlobalOptimizer)\n",
    "    x._preprocess_feasibility = true\n",
    "    end\n",
    "function EAGO.upper_problem!(t::QuasiConvex, x::GlobalOptimizer)\n",
    "    x._upper_feasibility = true\n",
    "    end\n",
    "function EAGO.postprocess!(t::QuasiConvex, x::GlobalOptimizer)\n",
    "    x._postprocess_feasibility = true\n",
    "end"
   ]
  },
  {
   "cell_type": "markdown",
   "metadata": {},
   "source": [
    "Next, we specify that only an absolute tolerance should be checked for convergence and termination."
   ]
  },
  {
   "cell_type": "code",
   "execution_count": 8,
   "metadata": {},
   "outputs": [],
   "source": [
    "import EAGO: convergence_check, termination_check\n",
    "function EAGO.convergence_check(t::QuasiConvex, x::GlobalOptimizer)\n",
    "    gap = (x._upper_objective_value - x._lower_objective_value)\n",
    "    return (gap <= x._parameters.absolute_tolerance)\n",
    "end\n",
    "function EAGO.termination_check(t::QuasiConvex, x::GlobalOptimizer)\n",
    "    flag = EAGO.convergence_check(t, x)\n",
    "    if flag\n",
    "        x._end_state = EAGO.GS_OPTIMAL\n",
    "        x._termination_status_code = MOI.OPTIMAL\n",
    "        x._result_status_code = MOI.FEASIBLE_POINT\n",
    "    end\n",
    "    return flag\n",
    "end"
   ]
  },
  {
   "cell_type": "markdown",
   "metadata": {},
   "source": [
    "We then indicate that only the sixth variable, representing $t$, should be branched on. Since we will apply our knowledge about which $t^*$ should be kept in the lower problem definition, we also short-circuit EAGO's repeat_check function here to tell EAGO  not to branch this node, but instead to repeatedly evaluate it."
   ]
  },
  {
   "cell_type": "code",
   "execution_count": 9,
   "metadata": {},
   "outputs": [],
   "source": [
    "import EAGO: repeat_check\n",
    "branch_variable = [i == 6 for i=1:6]\n",
    "EAGO.repeat_check(t::QuasiConvex, x::GlobalOptimizer) = true"
   ]
  },
  {
   "cell_type": "markdown",
   "metadata": {},
   "source": [
    "In the lower problem, we then specify that the problem is to be solved locally for a fixed $t$ value. The objective value is then updated and the problem is contracted in order to discard the region which is known to not contain the optimal value."
   ]
  },
  {
   "cell_type": "code",
   "execution_count": 10,
   "metadata": {},
   "outputs": [],
   "source": [
    "import EAGO: lower_problem!\n",
    "function EAGO.lower_problem!(t::QuasiConvex, x::GlobalOptimizer)\n",
    "    y = x._current_node\n",
    "    indx = x._sol_to_branch_map[6]\n",
    "    lower = y.lower_variable_bounds[indx]\n",
    "    upper = y.upper_variable_bounds[indx]\n",
    "    midy = (lower + upper)/2.0\n",
    "    y.lower_variable_bounds[indx] = midy\n",
    "    y.upper_variable_bounds[indx] = midy\n",
    "    EAGO.solve_local_nlp!(x)\n",
    "    feas = x._upper_feasibility\n",
    "    y.lower_variable_bounds[indx] = feas ?  lower : midy\n",
    "    y.upper_variable_bounds[indx] = feas ?  midy : upper\n",
    "    x._lower_objective_value = y.lower_variable_bounds[indx]\n",
    "    x._upper_objective_value = y.upper_variable_bounds[indx]\n",
    "    x._lower_feasibility = true\n",
    "    return\n",
    "end"
   ]
  },
  {
   "cell_type": "markdown",
   "metadata": {},
   "source": [
    "We now define the optimizer factory to extend the core EAGO optimizer for this special problem. The SubSolvers() constructor is used to set the extension type (t), as well as the relaxed optimizer (r) and upper-bounding optimizer (u), if necessary. In this case, we will use the default solvers and only set the extension type."
   ]
  },
  {
   "cell_type": "code",
   "execution_count": 13,
   "metadata": {},
   "outputs": [],
   "source": [
    "factory = () -> EAGO.Optimizer(SubSolvers(; t = QuasiConvex()));"
   ]
  },
  {
   "cell_type": "markdown",
   "metadata": {},
   "source": [
    "We now build the JuMP model representing this problem, solve it, and retrieve the solution."
   ]
  },
  {
   "cell_type": "code",
   "execution_count": 12,
   "metadata": {},
   "outputs": [
    {
     "name": "stdout",
     "output_type": "stream",
     "text": [
      "---------------------------------------------------------------------------------------------------------------------------------\n",
      "|  Iteration #  |     Nodes     |  Lower Bound  |  Upper Bound  |      Gap      |     Ratio     |     Timer     |   Time Left   |\n",
      "---------------------------------------------------------------------------------------------------------------------------------\n",
      "|             5 |             1 |    -1.719E+00 |    -1.562E+00 |     1.562E-01 |     9.091E-02 |          0.29 |       3599.71 |\n",
      "|            10 |             1 |    -1.719E+00 |    -1.714E+00 |     4.883E-03 |     2.841E-03 |          0.42 |       3599.58 |\n",
      "|            15 |             1 |    -1.717E+00 |    -1.717E+00 |     1.526E-04 |     8.887E-05 |          0.61 |       3599.39 |\n",
      "|            20 |             1 |    -1.717E+00 |    -1.717E+00 |     4.768E-06 |     2.777E-06 |          0.80 |       3599.20 |\n",
      "|            25 |             1 |    -1.717E+00 |    -1.717E+00 |     1.490E-07 |     8.679E-08 |          1.09 |       3598.91 |\n",
      "|            29 |             0 |    -1.717E+00 |    -1.717E+00 |     1.863E-08 |     1.085E-08 |          1.27 |       3598.73 |\n",
      "---------------------------------------------------------------------------------------------------------------------------------\n",
      " \n",
      "Empty Stack: Exhaustive Search Finished\n",
      "Optimal Solution Found at Node 1\n",
      "Lower Bound: -1.7169029079377651\n",
      "Upper Bound: -1.7169028893113136\n",
      "Solution:\n",
      "   y[1] = 0.6523481954980598\n",
      "   y[2] = 0.6685518965173725\n",
      "   y[3] = 0.18303164806184094\n",
      "   y[4] = 0.2411865247073334\n",
      "   y[5] = 0.2993413936904679\n",
      "   y[6] = -1.7169028893113136\n",
      " \n"
     ]
    }
   ],
   "source": [
    "opt = optimizer_with_attributes(factory, \n",
    "                                \"absolute_tolerance\" => 1E-8, \n",
    "                                \"branch_variable\" => branch_variable,\n",
    "                                \"iteration_limit\" => 1000,\n",
    "                                \"output_iterations\" => 5)\n",
    "model = Model(opt)\n",
    "@variable(model, ((i<6) ? 0 : -5) <= y[i=1:6] <= ((i<6) ? 5 : 0))\n",
    "@constraint(model, sum(i*y[i] for i=1:5) - 5 == 0)\n",
    "@constraint(model, sum(y[i]^2 for i=1:5) - 0.5*pi^2 <= 0)\n",
    "@expression(model, expr1, 2*y[1]*y[2] + 4*y[1]*y[3] + 2*y[2]*y[3])\n",
    "@constraint(model, -(0.5*y[1]^2 + 0.5*y[2]^2 + y[3]^2 + expr1) <= 0)\n",
    "@expression(model, expr2, log((5 + y[1])^2 + sum(y[i] for i=1:5)))\n",
    "@constraint(model, -y[1]^2 -6*y[1]*y[2] -2*y[2]^2 +cos(y[1]) + pi <= 0)\n",
    "@constraint(model, -expr2/(1 + sum(y[i]^2 for i=1:5)) - y[6] <= 0)\n",
    "@objective(model, Min, y[6])\n",
    "\n",
    "JuMP.optimize!(model) # Retrieve solution info"
   ]
  },
  {
   "cell_type": "markdown",
   "metadata": {},
   "source": [
    "### Reference:\n",
    "1. C. Jansson, Quasiconvex relaxations based on interval arithmetic, Linear Algebra and its Applications, 324 (2001), pp. 27–53.\n",
    "2. S. Boyd and L. Vandenberghe, Convex optimization, Cambridge University Press, 2004."
   ]
  }
 ],
 "metadata": {
  "@webio": {
   "lastCommId": null,
   "lastKernelId": null
  },
  "kernelspec": {
   "display_name": "Julia 1.10.8",
   "language": "julia",
   "name": "julia-1.10"
  },
  "language_info": {
   "file_extension": ".jl",
   "mimetype": "application/julia",
   "name": "julia",
   "version": "1.10.8"
  }
 },
 "nbformat": 4,
 "nbformat_minor": 2
}
