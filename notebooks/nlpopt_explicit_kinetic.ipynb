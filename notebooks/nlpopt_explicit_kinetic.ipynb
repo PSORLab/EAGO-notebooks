{
 "cells": [
  {
   "cell_type": "markdown",
   "metadata": {},
   "source": [
    "# Using  EAGO with a script-defined problem:  \n",
    "### *Kinetic parameter estimation with explicit Euler integration*\n",
    "\n",
    "[Matthew Wilhelm](https://psor.uconn.edu/person/matthew-wilhelm/)  \n",
    "Department of Chemical and Biomolecular Engineering, University of Connecticut\n",
    "\n",
    "[Robert Gottlieb](https://psor.uconn.edu/person/robert-gottlieb/)  \n",
    "Department of Chemical and Biomolecular Engineering, University of Connecticut\n",
    "\n",
    "Consider the kinetic parameter estimation problem described in [1,2,3]. It consists of a system of ODEs that describe the concentration of the involved species after initial laser flash pyrolysis given below:\n",
    "\n",
    "$\n",
    "\\begin{align}\n",
    "    \\frac{dx_A}{dt} &= k_1 x_Z x_Y - c_{O_2} (k_{2f}+k_{3f})x_A + \\frac{k_{2f}}{K_2}x_D + \\frac{k_{3f}}{K_3}x_B - k_5 x_A^2 \\\\\n",
    "     \\frac{dx_B}{dt} &= c_{O_2}k_{3f}x_A - \\left(\\frac{k_{3f}}{K_3}+k_4\\right)x_B,\\\\\n",
    "     \\frac{dx_D}{dt} &= c_{O_2}k_{2f}x_A - \\frac{k_{2f}}{K_2}x_D, \\\\\n",
    "     \\frac{dx_Y}{dt} &= - k_{1s} x_Z x_Y, \\\\\n",
    "     \\frac{dx_Z}{dt} &= - k_1 x_Z x_Y, \\\\\n",
    "x_A(0) &= 0,\\;  x_B(0) = 0,\\; x_D(0) = 0,\\; x_Y(0) = 0.4,\\; x_Z(0) = 140     \n",
    "\\end{align}\n",
    "$\n",
    "\n",
    "where $x_j$ is the concentration of species $j \\in \\{A,B,D,Y,Z\\}$. The constants are then given by $T = 273$, $K_2 = 46\\exp(6500/T-18)$, $K_3=2K_2$, $k_1 = 53$, $k_{1s} = k_1 \\times 10^{-6}$, $k_5 = 1.2\\times 10^{-3}$, and $c_{O_2} = 2\\times 10^{-3}$. \n",
    "\n",
    "One seeks to determine the reaction rate constant from measured intensity data by minimizing the sum-squared-error. A known dependency of intensity on concentrations exists and is given by $I = x_A + \\frac{2}{21}x_B + \\frac{2}{21}x_D$. The reaction rate constants are $k_{2f} \\in [10,1200]$, $k_{3f} \\in [10,1200]$, and $k_4 \\in [0.001,40]$ and form the decision space vector $\\mathbf{p} = (k_{2f},k_{3f},k_4)$. In the below example, we'll discretize the ODE system via an explicit Euler method taking $\\Delta t = 0.01$ and formulate an optimization problem which we'll then solve using EAGO's **script_solve** function.\n",
    "\n",
    "For reference, the explicit Euler discretization is given by:\n",
    "\n",
    "$\n",
    "\\begin{align}\n",
    "x_A^{i+1} &= x_A^i + \\Delta t \\left(k_1 x_Y^{i} x_Z^{i} - c_{O2}(k_{2f}+k_{3f})x_A^i + \\frac{k_{2f}}{K_2}x^i_D + \\frac{k_{3f}}{K_3}x^i_B - k_5 (x_A^i)^2 \\right) \\\\\n",
    "x_B^{i+1} &= x_B^i + \\Delta t \\left(k_{3f}C_{O2}x_A^i - \\left(\\frac{k_{3f}}{K_3} + k_4\\right)x_B^i\\right) \\\\\n",
    "x_D^{i+1} &= x_D^i + \\Delta t \\left(k_{2f}C_{O2}x_A^i - \\frac{k_{2f}}{K_2} x_D^i\\right) \\\\\n",
    "x_Y^{i+1} &= x_Y^i + \\Delta t \\left(-k_{1s} x_Y^i x_Z^i \\right) \\\\\n",
    "x_Z^{i+1} &= x_Z^i + \\Delta t \\left(k_{1} x_Y^i x_Z^i\\right)\n",
    "\\end{align}\n",
    "$"
   ]
  },
  {
   "cell_type": "markdown",
   "metadata": {},
   "source": [
    "### Load data\n",
    "We now load the data from the \"kinetic_intensity_data.csv\" file and bounds from the \"implicit_variable_bounds.csv\" file."
   ]
  },
  {
   "cell_type": "code",
   "execution_count": 17,
   "metadata": {},
   "outputs": [],
   "source": [
    "using EAGO, JuMP, DataFrames, CSV\n",
    "\n",
    "data = CSV.read(\"kinetic_intensity_data.csv\", DataFrame)\n",
    "bounds = CSV.read(\"implicit_variable_bounds.csv\", DataFrame)\n",
    "\n",
    "pL = [10.0, 10.0, 0.001]\n",
    "pU = [1200.0, 1200.0, 40.0];"
   ]
  },
  {
   "cell_type": "markdown",
   "metadata": {},
   "source": [
    "### Define explicit Euler integration function"
   ]
  },
  {
   "cell_type": "code",
   "execution_count": 18,
   "metadata": {},
   "outputs": [],
   "source": [
    "# Define the explicit Euler integration scheme\n",
    "function explicit_euler_integration(p::T...) where {T}\n",
    "    x = zeros(T, 1005)\n",
    "    x[4] = 0.4\n",
    "    x[5] = 140\n",
    "\n",
    "    # sets known parameter values\n",
    "    Temp = 273.0\n",
    "    K2 = 46.0*exp(6500.0/Temp - 18.0)\n",
    "    K3 = 2.0*K2\n",
    "    k1 = 53.0\n",
    "    k1s = k1*10^(-6)\n",
    "    k5 = 0.0012\n",
    "    cO2 = 0.002\n",
    "\n",
    "    h = 0.01\n",
    "    # offset by 1, since the initial condition is x[1:5]\n",
    "    for i = 1:200\n",
    "        term1 = k1*x[5i-1]*x[5i] - cO2*(p[1] + p[2])*x[5i-4]\n",
    "        term2 = p[1]*x[5i-2]/K2 + p[2]*x[5i-3]/K3 - k5*x[5i-4]^2\n",
    "        x[5i+1] = x[5i-4] + h*(term1 + term2)\n",
    "        x[5i+2] = x[5i-3] + h*(p[2]*cO2*x[5i-4] - (p[2]/K3 + p[3])*x[5i-3])\n",
    "        x[5i+3] = x[5i-2] + h*(p[1]*cO2*x[5i-4] - p[1]*x[5i-2]/K2)\n",
    "        x[5i+4] = x[5i-1] + h*(-k1s*x[5i-1]*x[5i])\n",
    "        x[5i+5] = x[5i] + h*(-k1*x[5i-1]*x[5i])\n",
    "    end\n",
    "    return x\n",
    "end;"
   ]
  },
  {
   "cell_type": "markdown",
   "metadata": {},
   "source": [
    "### Define the objective function"
   ]
  },
  {
   "cell_type": "code",
   "execution_count": 19,
   "metadata": {},
   "outputs": [],
   "source": [
    "# Defines function for intensity\n",
    "intensity(xA, xB, xD) = xA + (2/21)*xB + (2/21)*xD\n",
    "\n",
    "# Defines the objective: integrates the ODEs and calculates SSE\n",
    "function objective(p::T...) where {T}\n",
    "    x = explicit_euler_integration(p...)\n",
    "    SSE = zero(T)\n",
    "    for i = 1:200\n",
    "        SSE += (intensity(x[5i+1], x[5i+2], x[5i+3]) - data[!,:intensity][i])^2\n",
    "    end\n",
    "    return SSE\n",
    "end;"
   ]
  },
  {
   "cell_type": "markdown",
   "metadata": {},
   "source": [
    "### Solve the problem and get outputs"
   ]
  },
  {
   "cell_type": "code",
   "execution_count": 20,
   "metadata": {},
   "outputs": [
    {
     "name": "stdout",
     "output_type": "stream",
     "text": [
      "---------------------------------------------------------------------------------------------------------------------------------\n",
      "|  Iteration #  |     Nodes     |  Lower Bound  |  Upper Bound  |      Gap      |     Ratio     |     Timer     |   Time Left   |\n",
      "---------------------------------------------------------------------------------------------------------------------------------\n",
      "|          1000 |           867 |     8.983E+03 |     9.628E+03 |     6.442E+02 |     6.692E-02 |         20.88 |       3579.12 |\n",
      "|          2000 |          1863 |     9.055E+03 |     9.628E+03 |     5.722E+02 |     5.943E-02 |         32.56 |       3567.44 |\n",
      "|          3000 |          2861 |     9.092E+03 |     9.628E+03 |     5.356E+02 |     5.563E-02 |         43.65 |       3556.35 |\n",
      "|          4000 |          3857 |     9.115E+03 |     9.628E+03 |     5.122E+02 |     5.321E-02 |         54.31 |       3545.69 |\n",
      "|          5000 |          4857 |     9.132E+03 |     9.628E+03 |     4.954E+02 |     5.146E-02 |         65.21 |       3534.79 |\n",
      "|          6000 |          5849 |     9.145E+03 |     9.628E+03 |     4.823E+02 |     5.009E-02 |         76.11 |       3523.89 |\n",
      "|          6083 |          5932 |     9.146E+03 |     9.628E+03 |     4.814E+02 |     5.000E-02 |         77.05 |       3522.95 |\n",
      "---------------------------------------------------------------------------------------------------------------------------------\n",
      " \n",
      "Relative Tolerance Achieved\n",
      "Optimal Solution Found at Node 137\n",
      "Lower Bound: 9146.202587521808\n",
      "Upper Bound: 9627.574244007586\n",
      "Solution:\n",
      "   p[1] = 828.0651634543585\n",
      "   p[2] = 385.732149484276\n",
      "   p[3] = 14.567016208483889\n",
      " \n"
     ]
    }
   ],
   "source": [
    "# Create model and add variables)\n",
    "model = Model(optimizer_with_attributes(EAGO.Optimizer, \"relative_tolerance\" => 0.05, \"unbounded_check\" => false))\n",
    "\n",
    "@variable(model, pL[i] <= p[i=1:3] <= pU[i])\n",
    "\n",
    "# Register objective, add objective function, and optimize\n",
    "fobj(p...) = objective(p...)\n",
    "@operator(model, op_fobj, 3, fobj)\n",
    "@objective(model, Min, op_fobj(p...))\n",
    "JuMP.optimize!(model)"
   ]
  },
  {
   "cell_type": "markdown",
   "metadata": {},
   "source": [
    "Note that the EAGO solver defaults to refine interval bounds using subgradients as described in [4,5] for it's basic **JuMP.optimize!** routine."
   ]
  },
  {
   "cell_type": "markdown",
   "metadata": {},
   "source": [
    "### References\n",
    "1. J. W. Taylor, et al., Direct measurement of the fast, reversible addition of oxygen to cyclohexadienyl radicals in nonpolar solvents, *J. Phys. Chem. A.*, **2004**, 108, 7193–7203.\n",
    "2. A. B. Singer, et al., Global dynamic optimization for parameter estimation in chemical kinetics, *J. Phys. Chem A.*, **2006**, 110, 971–976.\n",
    "3. Mitsos, A. Chachuat, B., & Barton, P.I., McCormick-based relaxations of algorithms, *SIAM Journal on Optimization*, *SIAM*, **2009**, 20(2), 573-601.\n",
    "4. Stuber, M.D., Scott, J.K., & Barton, P.I.: Convex and concave relaxations of implicit functions. *Optim. Methods Softw.*, **2015** 30(3), 424–460.\n",
    "5. Najman, J., Mitsos, A., Tighter McCormick relaxations through subgradient propagation *arXiv preprint* arXiv:1710.09188"
   ]
  }
 ],
 "metadata": {
  "kernelspec": {
   "display_name": "Julia 1.10.8",
   "language": "julia",
   "name": "julia-1.10"
  },
  "language_info": {
   "file_extension": ".jl",
   "mimetype": "application/julia",
   "name": "julia",
   "version": "1.10.8"
  }
 },
 "nbformat": 4,
 "nbformat_minor": 2
}
