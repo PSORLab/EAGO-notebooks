{
 "cells": [
  {
   "attachments": {},
   "cell_type": "markdown",
   "metadata": {},
   "source": [
    "# Extending EAGO for a Custom Lower-Bounding Problem: An $\\alpha$ BB example for a QCQP.\n",
    "In this example, we will demonstrate the use of a user-defined lower-bounding problem that uses $\\alpha$ BB convex relaxations. In this example, we wish to solve the (nonconvex) QCQP:\n",
    "$$\\begin{align*}\n",
    "&\\min_{\\mathbf x\\in X\\in \\mathbb{IR}^2}\\frac{1}{2}\\mathbf x^{\\rm T}\\mathbf Q_f\\mathbf x+\\mathbf c_f^{\\rm T}\\mathbf x\\\\\n",
    "{\\rm s.t.}\\;\\;&g_1(\\mathbf x)=\\frac{1}{2}\\mathbf x^{\\rm T}\\mathbf Q_{g_1}\\mathbf x+\\mathbf c_{g_1}^{\\rm T}\\mathbf x\\le 0\\\\\n",
    "&g_2(\\mathbf x)=\\frac{1}{2}\\mathbf x^{\\rm T}\\mathbf Q_{g_2}\\mathbf x+\\mathbf c_{g_2}^{\\rm T}\\mathbf x\\le 0\n",
    "\\end{align*}\n",
    "$$\n",
    "with $\\mathbf Q_i\\in\\mathbb R^{2\\times 2}$ not positive semidefinite for any $i$.\n",
    "\n",
    "We start by loading the necessary packages. This notebook was tested working using Julia 1.9.1 with JuMP v1.12.0, EAGO v0.8.1, and Ipopt v1.4.1."
   ]
  },
  {
   "cell_type": "code",
   "execution_count": 21,
   "metadata": {},
   "outputs": [],
   "source": [
    "using JuMP, EAGO, Ipopt, LinearAlgebra"
   ]
  },
  {
   "attachments": {},
   "cell_type": "markdown",
   "metadata": {},
   "source": [
    "For convenience, we'll define the following function that returns all the problem data $\\mathbf Q_i$ and $\\mathbf c_i$."
   ]
  },
  {
   "cell_type": "code",
   "execution_count": 22,
   "metadata": {},
   "outputs": [
    {
     "data": {
      "text/plain": [
       "QCQP_setup (generic function with 1 method)"
      ]
     },
     "metadata": {},
     "output_type": "display_data"
    }
   ],
   "source": [
    "function QCQP_setup()\n",
    "\n",
    "    Qf = [3.0 3/2; 3/2 -5.0]\n",
    "    cf = [3.0; 2.0]\n",
    "\n",
    "    Qg1 = [-2.0 5.0; 5.0 -2.0]\n",
    "    cg1 = [1.0; 3.0]\n",
    "\n",
    "    Qg2 = [-6.0 3.0; 3.0 2.0]\n",
    "    cg2 = [2.0; 1.0]\n",
    "    \n",
    "    return Qf, cf, Qg1, cg1, Qg2, cg2\n",
    "end"
   ]
  },
  {
   "attachments": {},
   "cell_type": "markdown",
   "metadata": {},
   "source": [
    "The next function we'll define will take as input data for a particular quadratic function and the interval bounds on the decision variables, and construct an $\\alpha$ BB convex relaxation of that function. Since we're solving a QCQP, we'll use the $\\verb|eigvals|$ function to directly compute the eigenvalues of the input $\\mathbf Q_i$ matrix."
   ]
  },
  {
   "cell_type": "code",
   "execution_count": 23,
   "metadata": {},
   "outputs": [
    {
     "data": {
      "text/plain": [
       "αBB_relax (generic function with 1 method)"
      ]
     },
     "metadata": {},
     "output_type": "display_data"
    }
   ],
   "source": [
    "function αBB_relax(Q::Matrix{T}, c::Vector{T}, xL::Vector{T}, xU::Vector{T}, x::Real...) where {T<:Float64}\n",
    "    α = max(0, -minimum(eigvals(Q))/2)\n",
    "    y = [x[1]; x[2]]\n",
    "    cv = 1/2*y'*Q*y + c'*y + α*(xL - y)'*(xU - y)\n",
    "    return cv\n",
    "end"
   ]
  },
  {
   "attachments": {},
   "cell_type": "markdown",
   "metadata": {},
   "source": [
    "The following code first defines our EAGO extension (custom version) struct and then it redefines the lower-bounding problem as our own version. That is, when we call this customized version of EAGO to solve the problem, it'll deploy this version of the lower-bounding problem instead of the default version.  "
   ]
  },
  {
   "cell_type": "code",
   "execution_count": 24,
   "metadata": {},
   "outputs": [],
   "source": [
    "import EAGO: Optimizer, GlobalOptimizer\n",
    "\n",
    "struct αBB_Convex <: EAGO.ExtensionType end\n",
    "import EAGO: lower_problem!\n",
    "function EAGO.lower_problem!(t::αBB_Convex, opt::GlobalOptimizer)\n",
    "    # Get active node\n",
    "    n = opt._current_node\n",
    "    # Get bounds on active node for calculating relaxations\n",
    "    xL = n.lower_variable_bounds[1:2]\n",
    "    xU = n.upper_variable_bounds[1:2]\n",
    "    # Get the problem data\n",
    "    Qf, cf, Qg1, cg1, Qg2, cg2 = QCQP_setup()\n",
    "\n",
    "    # Define the JuMP model and declare the solver, define the variables\n",
    "    model = JuMP.Model(JuMP.optimizer_with_attributes(Ipopt.Optimizer, \"print_level\" => 0))\n",
    "    @variable(model, xL[i] <= x[i=1:2] <= xU[i])\n",
    "    \n",
    "    # Define the function closures for the user-defined relaxations\n",
    "    fcv(x...)  = αBB_relax(Qf, cf, xL, xU, x...)   # relaxation of objective\n",
    "    g1cv(x...) = αBB_relax(Qg1, cg1, xL, xU, x...) # relaxation of constraint 1\n",
    "    g2cv(x...) = αBB_relax(Qg2, cg2, xL, xU, x...) # relaxation of constraint 2\n",
    "\n",
    "    # Register the user-defined functions\n",
    "    # Note: if the gradients and Hessians are directly available, they could\n",
    "    # be passed as arguments to the register function to speed things up.\n",
    "    @operator(model, op_fcv, 2, fcv)\n",
    "    @operator(model, op_g1cv, 2, g1cv)\n",
    "    @operator(model, op_g2cv, 2, g2cv)\n",
    "\n",
    "    # Declare the objective function and constraints to the JuMP model\n",
    "    @objective(model, Min, op_fcv(x...))\n",
    "    @constraint(model, op_g1cv(x...) <= 0.0)\n",
    "    @constraint(model, op_g2cv(x...) <= 0.0)\n",
    "    \n",
    "    # Solve the relaxed problem\n",
    "    JuMP.optimize!(model)\n",
    "    \n",
    "    # Get primal status, termination status, determine if a global solution was obtained\n",
    "    tstatus = MOI.get(model, MOI.TerminationStatus())\n",
    "    pstatus = MOI.get(model, MOI.PrimalStatus())\n",
    "\n",
    "    solution = JuMP.value.(x)\n",
    "    # Interpret status codes for branch-and-bound\n",
    "    if EAGO.local_problem_status(tstatus, pstatus) == EAGO.LRS_FEASIBLE\n",
    "        opt._lower_objective_value = JuMP.objective_value(model) \n",
    "        opt._lower_solution[1:length(solution)] = solution\n",
    "        opt._lower_feasibility = true\n",
    "        opt._cut_add_flag = false\n",
    "    else\n",
    "        opt._lower_feasibility = false\n",
    "        opt._lower_objective_value = Inf\n",
    "        opt._cut_add_flag = false\n",
    "    end\n",
    "    return\n",
    "end"
   ]
  },
  {
   "attachments": {},
   "cell_type": "markdown",
   "metadata": {},
   "source": [
    "Caution: By default, EAGO solves the epigraph reformulation of your original problem, which increases the original problem dimensionality by +1 with the introduction of an auxiliary variable. When defining custom routines (such as the lower-bounding problem here) that are intended to work nicely with default EAGO routines (such as preprocessing), the user must account for the *new* dimensionality of the problem. In the code above, we wish to access the information of the specific B&B node and define an optimization problem based on that information. However, in this example, the node has information for 3 variables (the original 2 plus 1 for the auxiliary variable appended to the original variable vector) as $(x_1,x_2,\\eta)$. The lower-bounding problem was defined to optimize the relaxed problem with respect to the original 2 decision variables. When storing the results of this subproblem to the current B&B node, it is important to take care to store the information at the appropriate indices and not inadvertently redefine the problem dimensionality (i.e., by simply storing the optimization solution as the $\\verb|lower_solution|$ of the current node). For problems that are defined to only branch on a subset of the original variables, the optimizer has a member $\\verb|_sol_to_branch_map|$ that carries the mapping between the indices of the original variables to those of the variables being branched on. See the custom_quasiconvex example to see how this is done. "
   ]
  },
  {
   "attachments": {},
   "cell_type": "markdown",
   "metadata": {},
   "source": [
    "(Optional) Turn off (short circuit) preprocessing routines if you don't want to use them as defined in EAGO. "
   ]
  },
  {
   "cell_type": "code",
   "execution_count": 25,
   "metadata": {},
   "outputs": [],
   "source": [
    "import EAGO: preprocess!\n",
    "function EAGO.preprocess!(t::αBB_Convex, x::GlobalOptimizer)\n",
    "    x._preprocess_feasibility = true\n",
    "    return\n",
    "end"
   ]
  },
  {
   "attachments": {},
   "cell_type": "markdown",
   "metadata": {},
   "source": [
    "(Optional) Turn off (short circuit) postprocessing routines if you don't want to use them as defined in EAGO. "
   ]
  },
  {
   "cell_type": "code",
   "execution_count": 26,
   "metadata": {},
   "outputs": [],
   "source": [
    "import EAGO: postprocess!\n",
    "function EAGO.postprocess!(t::αBB_Convex, x::GlobalOptimizer)\n",
    "    x._postprocess_feasibility = true\n",
    "    return\n",
    "end"
   ]
  },
  {
   "attachments": {},
   "cell_type": "markdown",
   "metadata": {},
   "source": [
    "Now, we'll tell EAGO to use our custom/extended solver, set up the main JuMP model, and solve it with our custom solver. "
   ]
  },
  {
   "cell_type": "code",
   "execution_count": 27,
   "metadata": {},
   "outputs": [
    {
     "name": "stdout",
     "output_type": "stream",
     "text": [
      "---------------------------------------------------------------------------------------------------------------------------------\n",
      "|  Iteration #  |     Nodes     |  Lower Bound  |  Upper Bound  |      Gap      |     Ratio     |     Timer     |   Time Left   |\n",
      "---------------------------------------------------------------------------------------------------------------------------------\n",
      "|             5 |             4 |    -6.589E+01 |    -5.519E+01 |     1.070E+01 |     1.624E-01 |          4.29 |       3595.71 |\n",
      "|            10 |             3 |    -6.109E+01 |    -5.519E+01 |     5.898E+00 |     9.656E-02 |          4.35 |       3595.65 |\n",
      "|            15 |             2 |    -5.531E+01 |    -5.519E+01 |     1.226E-01 |     2.216E-03 |          4.40 |       3595.60 |\n",
      "|            19 |             0 |    -5.520E+01 |    -5.519E+01 |     1.528E-02 |     2.768E-04 |          4.47 |       3595.53 |\n",
      "---------------------------------------------------------------------------------------------------------------------------------\n",
      " \n",
      "Empty Stack: Exhaustive Search Finished\n",
      "Optimal Solution Found at Node 13\n",
      "Lower Bound: -55.20213358896345\n",
      "Upper Bound: -55.186852237602906\n",
      "Solution:\n",
      "   x[1] = 0.9999999990279037\n",
      "   x[2] = -4.236067970186946\n",
      " \n",
      "  4.685736 seconds (7.86 M allocations: 534.045 MiB, 2.77% gc time, 94.70% compilation time: 5% of which was recompilation)\n"
     ]
    }
   ],
   "source": [
    "factory = () -> EAGO.Optimizer(SubSolvers(; t = αBB_Convex()))\n",
    "model = JuMP.Model(optimizer_with_attributes(factory,\n",
    "                                \"relative_tolerance\" => 1e-4,\n",
    "                                \"verbosity\" => 1,\n",
    "                                \"output_iterations\" => 5, \n",
    "                                \"branch_variable\" => Bool[true; true],\n",
    "                                \"unbounded_check\" => false,\n",
    "                                ))\n",
    "Qf, cf, Qg1, cg1, Qg2, cg2 = QCQP_setup() # get QCQP data\n",
    "xL = [-3.0; -5.0] # lower bounds on x\n",
    "xU = [1.0; 2.0] # upper bounds on x\n",
    "@variable(model, xL[i] <= x[i=1:2] <= xU[i])\n",
    "\n",
    "# Define objective and constraints\n",
    "@objective(model, Min, 1/2*x'*Qf*x + cf'*x)\n",
    "@constraint(model, 1/2*x'*Qg1*x + cg1'*x <= 0.0)\n",
    "@constraint(model, 1/2*x'*Qg2*x + cg2'*x <= 0.0)\n",
    "\n",
    "# Solve the problem\n",
    "@time optimize!(model)"
   ]
  }
 ],
 "metadata": {
  "kernelspec": {
   "display_name": "Julia 1.10.8",
   "language": "julia",
   "name": "julia-1.10"
  },
  "language_info": {
   "file_extension": ".jl",
   "mimetype": "application/julia",
   "name": "julia",
   "version": "1.10.8"
  },
  "orig_nbformat": 4
 },
 "nbformat": 4,
 "nbformat_minor": 2
}
